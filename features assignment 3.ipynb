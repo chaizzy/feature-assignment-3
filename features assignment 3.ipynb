{
 "cells": [
  {
   "cell_type": "code",
   "execution_count": 1,
   "id": "f904faee-b5c3-4ab3-a4e7-25b179342a9c",
   "metadata": {},
   "outputs": [],
   "source": [
    "# ANS 1 :\n",
    "# Data encoding \n",
    "# It is a process of converting a categorical feature into numerical because \n",
    "# when  we have to train a machine learning model we require numerical feature that why we we use \n",
    "# data encoding techniques\n",
    "\n",
    "# It is useful in data science by simplyfying features of data to be trained by machine learning model\n",
    "# and predicting some real life scenerios"
   ]
  },
  {
   "cell_type": "code",
   "execution_count": 2,
   "id": "64d8738a-f6c9-405f-a3bf-5b119646596f",
   "metadata": {},
   "outputs": [],
   "source": [
    "# ANS 2 :\n",
    "# Nominal Encoding\n",
    "# Nominal Encoding is a technique used to transform categorical variable that have no intrinsic oedering\n",
    "# into numerical values that can be used in machine learning models. One common method for nominal encoding\n",
    "# is one - hot encoding which creates a binary vector for each category in the variable\n",
    "\n",
    "# for example\n",
    "# we working on house price  prediction model \n",
    "# features like   no. of rooms , location , size , price\n",
    "# so, location is  a categorical feature \n",
    "# there are three locations hyderabad , banglore , mumbai\n",
    "# so , it will create a sparse matrix  and add three more features \n",
    "# location             hyderbad    mumbai    banglore\n",
    "# mumbai                 0           1          0\n",
    "# banglore               0           0          1\n",
    "# hyderabad              1           0          0  "
   ]
  },
  {
   "cell_type": "code",
   "execution_count": 4,
   "id": "1d1bd720-3f32-4cd2-bc26-ff913403b43e",
   "metadata": {},
   "outputs": [],
   "source": [
    "# ANS 3 :\n",
    "#  nominal encoding and one-hot encoding depends on the specific problem, the nature of the data, \n",
    "#  and the machine learning algorithms being used.\n",
    "\n",
    "# One-hot encoding can lead to a significant increase in the dimensionality of the dataset,\n",
    "# especially when the categorical variable has a large number of unique categories. \n",
    "# This can result in a sparse matrix and computational inefficiency.\n",
    "# nominal encoding can be preferred as it reduces the dimensionality by representing the categories with numerical codes.\n",
    "\n",
    "# for example \n",
    "# if we work on financial project \n",
    "# Consider a dataset of online transactions where one of the categorical features is \n",
    "# \"Product Category\" and  has thousands of unique categories, using one-hot encoding would result in a very high-dimensional dataset. \n",
    "#  Nominal encoding can be a better choice as it reduces the dimensionality by encoding each category with a numerical code.\n",
    "#  sparse matrix leads to overfitting."
   ]
  },
  {
   "cell_type": "code",
   "execution_count": 5,
   "id": "918eb875-dd25-4c4c-80d4-6b1f27c02c8b",
   "metadata": {},
   "outputs": [],
   "source": [
    "# ANS 4 :\n",
    "# If we have have 5 unique values in a categorical feature then we use One hot encoding\n",
    "# Using one-hot encoding in this case would result in the creation of 5 binary variables, \n",
    "# where each variable represents one unique category. \n",
    "# These binary variables would be independent of each other, \n",
    "# allowing the machine learning algorithm to understand and learn the relationships between the different categories."
   ]
  },
  {
   "cell_type": "code",
   "execution_count": 6,
   "id": "7c94635d-48eb-4a9b-87ff-621922ae341d",
   "metadata": {},
   "outputs": [],
   "source": [
    "# ANS 5 :\n",
    "#  we have 1000 rows and 5 columns and 2 columns are categorical\n",
    "#  suppose x unique values are there in 1st categorical column\n",
    "#  and y unique values are there in 2nd categorical column\n",
    "#  x+y new columns will there\n",
    "\n",
    "# for example \n",
    "# x=2\n",
    "# y=3\n",
    "# 5 new columns will there "
   ]
  },
  {
   "cell_type": "code",
   "execution_count": 7,
   "id": "fea5410a-8e36-454f-8c73-6fac8fdb8fcb",
   "metadata": {},
   "outputs": [],
   "source": [
    "# ANS 6 :\n",
    "# In this dataset we use  one hot encoding technique because \n",
    "# as we see animals , species , diet , habitat  contains some unique categories \n",
    "# one hot encoding technique will very appropiate to use for converting into numerical feature \n",
    "# as all unique categories are equal so, we cant use ordinal or label encoding here"
   ]
  },
  {
   "cell_type": "code",
   "execution_count": 15,
   "id": "72a27215-62fb-4ed2-9c4f-25ad651de1af",
   "metadata": {},
   "outputs": [],
   "source": [
    "# ANS 7:\n",
    "# 1st technique\n",
    "# It is project that involves predicting customer churn for a telecommunications company.\n",
    "# we have 5 features, including the customer's gender, age, contract type, monthly charges, and tenure.\n",
    "\n",
    "# In this case we will use Target guided ordinal encoding\n",
    "# It is a technique used to encode categorical variables based on their relationship with the target variable. \n",
    "# This encoding technique is useful when we have a categorical variable with a large number of unique categories, \n",
    "# and we want to use this variable as a feature in our machine learning model.\n",
    "# we replace each category in the categorical variable with a \n",
    "# numerical value based on the mean or median of the target variable for that category\n",
    "\n",
    "# we can use montly charges as target variable to convert categorical features like age , customers gender\n",
    "# based on the realationship between them.\n",
    "\n",
    "# steps\n",
    "# 1. calculate the mean price  of each city\n",
    "# mean_price = df.groupby('montly_charges')['age'].mean()\n",
    "\n",
    "# 2. replace each city with mean price and map to original dataset\n",
    "# df['encoded_age']=df['age'].map(mean_price)\n",
    "# in this we can convert\n",
    "\n",
    "\n",
    "# 2nd Technique \n",
    "# we can use ordinal encoder to categorical data to numeriacal data\n",
    "# so we will use contract type and montly charges\n",
    "\n",
    "# steps \n",
    "# 1.import the packade from sklearn.preprocessing import OrdinalEncoder\n",
    "\n",
    "# define a dataframe\n",
    "\n",
    "# 2. create an instance by giving categories\n",
    "# ordinal = OrdinalEncoder(categories=[['duraton1','duration2','duration3']])\n",
    "\n",
    "# 3. fit into model and transform it\n",
    "# ordinal.fit_transform(df[['contract_Type']])\n"
   ]
  },
  {
   "cell_type": "code",
   "execution_count": null,
   "id": "e25d76f7-c700-43c8-9ba6-1a14910ebf9d",
   "metadata": {},
   "outputs": [],
   "source": []
  },
  {
   "cell_type": "code",
   "execution_count": null,
   "id": "123b35d0-f977-4fa6-bae2-47d317784094",
   "metadata": {},
   "outputs": [],
   "source": []
  },
  {
   "cell_type": "code",
   "execution_count": null,
   "id": "be6d6fc3-c813-4d42-96a2-da5db9efa3e0",
   "metadata": {},
   "outputs": [],
   "source": []
  },
  {
   "cell_type": "code",
   "execution_count": null,
   "id": "3e70a786-a687-4f96-9c03-87632fb74a1c",
   "metadata": {},
   "outputs": [],
   "source": []
  },
  {
   "cell_type": "code",
   "execution_count": null,
   "id": "5c775e90-70f0-4499-84b3-df2a9e160e1a",
   "metadata": {},
   "outputs": [],
   "source": []
  }
 ],
 "metadata": {
  "kernelspec": {
   "display_name": "Python 3 (ipykernel)",
   "language": "python",
   "name": "python3"
  },
  "language_info": {
   "codemirror_mode": {
    "name": "ipython",
    "version": 3
   },
   "file_extension": ".py",
   "mimetype": "text/x-python",
   "name": "python",
   "nbconvert_exporter": "python",
   "pygments_lexer": "ipython3",
   "version": "3.10.8"
  }
 },
 "nbformat": 4,
 "nbformat_minor": 5
}
